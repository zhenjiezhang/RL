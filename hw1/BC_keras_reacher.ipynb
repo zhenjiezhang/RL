{
 "cells": [
  {
   "cell_type": "code",
   "execution_count": 1,
   "metadata": {},
   "outputs": [
    {
     "name": "stderr",
     "output_type": "stream",
     "text": [
      "Using TensorFlow backend.\n"
     ]
    }
   ],
   "source": [
    "import keras\n",
    "from keras.models import Sequential\n",
    "from keras.layers import Dense, Softmax, Input, BatchNormalization, Dropout\n",
    "\n",
    "from sklearn.model_selection import train_test_split\n",
    "\n",
    "import tensorflow as tf\n",
    "from load_policy import load_policy\n",
    "import pickle\n",
    "import numpy as np\n",
    "import gym\n",
    "\n",
    "import tf_util\n"
   ]
  },
  {
   "cell_type": "code",
   "execution_count": 2,
   "metadata": {
    "collapsed": true
   },
   "outputs": [],
   "source": [
    "import tensorflow as tf\n",
    "from keras.backend.tensorflow_backend import set_session\n",
    "config = tf.ConfigProto()\n",
    "config.gpu_options.per_process_gpu_memory_fraction = 0.3\n",
    "set_session(tf.Session(config=config))"
   ]
  },
  {
   "cell_type": "code",
   "execution_count": 3,
   "metadata": {
    "collapsed": true
   },
   "outputs": [],
   "source": [
    "expert_policy_file = \"experts/Reacher-v1.pkl\"\n",
    "env_name = \"Reacher-v1\"\n",
    "rounds = 1000\n",
    "max_steps = 1000"
   ]
  },
  {
   "cell_type": "code",
   "execution_count": 4,
   "metadata": {},
   "outputs": [
    {
     "name": "stdout",
     "output_type": "stream",
     "text": [
      "obs (1, 11) (1, 11)\n"
     ]
    }
   ],
   "source": [
    "data = pickle.load(open(expert_policy_file, \"rb\"))\n",
    "policy_fn = load_policy(expert_policy_file)"
   ]
  },
  {
   "cell_type": "code",
   "execution_count": 5,
   "metadata": {},
   "outputs": [
    {
     "name": "stderr",
     "output_type": "stream",
     "text": [
      "[2018-06-06 14:08:21,196] Making new env: Reacher-v1\n"
     ]
    },
    {
     "name": "stdout",
     "output_type": "stream",
     "text": [
      "100\n",
      "200\n",
      "300\n",
      "400\n",
      "500\n",
      "600\n",
      "700\n",
      "800\n",
      "900\n"
     ]
    }
   ],
   "source": [
    "observations = []\n",
    "actions = []\n",
    "rewards = []\n",
    "\n",
    "with tf.Session() as sess:\n",
    "#     tf_util.initialize()\n",
    "    env = gym.make(env_name)\n",
    "    for i in range(rounds):\n",
    "        obs = env.reset()\n",
    "        r = 0\n",
    "        for s in range(max_steps):\n",
    "            action = policy_fn(obs[None,:])\n",
    "            observations.append(obs)\n",
    "            actions.append(action)\n",
    "            obs, r_, done, _ = env.step(action)\n",
    "            rewards.append(r_)\n",
    "            r += r_\n",
    "            if done:\n",
    "                break\n",
    "        if i and i%100 == 0:\n",
    "            print(i)\n",
    "            "
   ]
  },
  {
   "cell_type": "code",
   "execution_count": 6,
   "metadata": {
    "collapsed": true
   },
   "outputs": [],
   "source": [
    "observations = np.array(observations)\n",
    "actions = np.vstack(actions)\n",
    "rewards = np.array(rewards)\n",
    "\n",
    "obs_train, obs_valid, act_train, act_valid = \\\n",
    "    train_test_split(observations, actions, test_size = 0.2, random_state = 1998)"
   ]
  },
  {
   "cell_type": "code",
   "execution_count": 7,
   "metadata": {},
   "outputs": [
    {
     "data": {
      "text/plain": [
       "(1000000, 2)"
      ]
     },
     "execution_count": 7,
     "metadata": {},
     "output_type": "execute_result"
    }
   ],
   "source": [
    "actions.shape"
   ]
  },
  {
   "cell_type": "code",
   "execution_count": 33,
   "metadata": {
    "collapsed": true
   },
   "outputs": [],
   "source": [
    "input_dim = observations.shape[-1]\n",
    "bc = Sequential()\n",
    "bc.add(Dense(32, input_dim=input_dim, kernel_initializer='normal', activation='relu'))\n",
    "bc.add(Dense(512, input_dim=input_dim, kernel_initializer='normal', activation='relu'))\n",
    "\n",
    "# bc.add(Dense(512, kernel_initializer='normal', activation='relu'))\n",
    "# bc.add(BatchNormalization())\n",
    "# bc.add(Dropout(0.5))\n",
    "bc.add(Dense(32, kernel_initializer='normal', activation='relu'))\n",
    "\n",
    "bc.add(Dense(2, kernel_initializer='normal'))\n"
   ]
  },
  {
   "cell_type": "code",
   "execution_count": 34,
   "metadata": {
    "collapsed": true
   },
   "outputs": [],
   "source": [
    "bc.compile(optimizer='adam',loss='mse', metrics=['accuracy', 'mae'])"
   ]
  },
  {
   "cell_type": "code",
   "execution_count": 35,
   "metadata": {},
   "outputs": [
    {
     "name": "stdout",
     "output_type": "stream",
     "text": [
      "Train on 800000 samples, validate on 200000 samples\n",
      "Epoch 1/10\n",
      "800000/800000 [==============================] - 3s 4us/step - loss: 1.0037e-04 - acc: 0.5459 - mean_absolute_error: 0.0030 - val_loss: 2.5185e-05 - val_acc: 0.5542 - val_mean_absolute_error: 0.0018\n",
      "Epoch 2/10\n",
      "800000/800000 [==============================] - 3s 4us/step - loss: 1.9726e-05 - acc: 0.5557 - mean_absolute_error: 0.0016 - val_loss: 1.6545e-05 - val_acc: 0.5392 - val_mean_absolute_error: 0.0023\n",
      "Epoch 3/10\n",
      "800000/800000 [==============================] - 3s 4us/step - loss: 1.0994e-05 - acc: 0.5584 - mean_absolute_error: 0.0013 - val_loss: 1.2519e-05 - val_acc: 0.5381 - val_mean_absolute_error: 0.0018\n",
      "Epoch 4/10\n",
      "800000/800000 [==============================] - 3s 4us/step - loss: 8.3437e-06 - acc: 0.5591 - mean_absolute_error: 0.0012 - val_loss: 6.8048e-06 - val_acc: 0.5438 - val_mean_absolute_error: 0.0010\n",
      "Epoch 5/10\n",
      "800000/800000 [==============================] - 3s 4us/step - loss: 6.2090e-06 - acc: 0.5602 - mean_absolute_error: 0.0010 - val_loss: 4.7484e-06 - val_acc: 0.5609 - val_mean_absolute_error: 9.3317e-04\n",
      "Epoch 6/10\n",
      "800000/800000 [==============================] - 3s 4us/step - loss: 5.4936e-06 - acc: 0.5601 - mean_absolute_error: 9.8121e-04 - val_loss: 4.4586e-06 - val_acc: 0.5757 - val_mean_absolute_error: 8.4320e-04\n",
      "Epoch 7/10\n",
      "800000/800000 [==============================] - 3s 4us/step - loss: 4.8594e-06 - acc: 0.5602 - mean_absolute_error: 9.1117e-04 - val_loss: 4.4758e-06 - val_acc: 0.5459 - val_mean_absolute_error: 7.8812e-04\n",
      "Epoch 8/10\n",
      "800000/800000 [==============================] - 3s 4us/step - loss: 4.4354e-06 - acc: 0.5609 - mean_absolute_error: 8.6683e-04 - val_loss: 4.0718e-06 - val_acc: 0.5641 - val_mean_absolute_error: 8.6067e-04\n",
      "Epoch 9/10\n",
      "800000/800000 [==============================] - 3s 4us/step - loss: 3.7473e-06 - acc: 0.5625 - mean_absolute_error: 7.9402e-04 - val_loss: 2.6198e-06 - val_acc: 0.5488 - val_mean_absolute_error: 5.5732e-04\n",
      "Epoch 10/10\n",
      "800000/800000 [==============================] - 3s 4us/step - loss: 3.7649e-06 - acc: 0.5623 - mean_absolute_error: 7.8923e-04 - val_loss: 4.8691e-06 - val_acc: 0.5791 - val_mean_absolute_error: 9.2732e-04\n"
     ]
    },
    {
     "data": {
      "text/plain": [
       "<keras.callbacks.History at 0x7f656c1b3da0>"
      ]
     },
     "execution_count": 35,
     "metadata": {},
     "output_type": "execute_result"
    }
   ],
   "source": [
    "bc.fit(obs_train, act_train, validation_data=[obs_valid, act_valid],  epochs=10, batch_size= 512)"
   ]
  },
  {
   "cell_type": "code",
   "execution_count": 11,
   "metadata": {},
   "outputs": [
    {
     "data": {
      "text/plain": [
       "-22.77505284176671"
      ]
     },
     "execution_count": 11,
     "metadata": {},
     "output_type": "execute_result"
    }
   ],
   "source": [
    "rewards.sum()/1000"
   ]
  },
  {
   "cell_type": "code",
   "execution_count": 20,
   "metadata": {},
   "outputs": [
    {
     "data": {
      "text/plain": [
       "array([[-0.30525178, -0.2506469 ]], dtype=float32)"
      ]
     },
     "execution_count": 20,
     "metadata": {},
     "output_type": "execute_result"
    }
   ],
   "source": [
    "o = np.random.random(11)[None, :]\n",
    "bc.predict(o)"
   ]
  },
  {
   "cell_type": "code",
   "execution_count": 21,
   "metadata": {},
   "outputs": [
    {
     "name": "stdout",
     "output_type": "stream",
     "text": [
      "[[0.8586951 1.2538567]]\n"
     ]
    }
   ],
   "source": [
    "with tf.Session():\n",
    "    print(policy_fn(o))"
   ]
  },
  {
   "cell_type": "code",
   "execution_count": 36,
   "metadata": {
    "collapsed": true
   },
   "outputs": [],
   "source": [
    "m_rewards = []\n",
    "\n",
    "def run_model(m, m_rounds, max_steps):\n",
    "    env = gym.make(env_name)\n",
    "    for i in range(m_rounds):\n",
    "        obs = env.reset()\n",
    "        r = 0\n",
    "        for s in range(max_steps):\n",
    "            action = m.predict(obs[None,:])\n",
    "#             observations.append(obs)\n",
    "#             actions.append(action)\n",
    "            obs, r_, done, _ = env.step(action)\n",
    "            m_rewards.append(r_)\n",
    "#             r += r_\n",
    "            if done:\n",
    "                break"
   ]
  },
  {
   "cell_type": "code",
   "execution_count": 37,
   "metadata": {},
   "outputs": [
    {
     "name": "stderr",
     "output_type": "stream",
     "text": [
      "[2018-06-06 18:02:22,234] Making new env: Reacher-v1\n"
     ]
    }
   ],
   "source": [
    "mr = 1000\n",
    "mstep = 1000\n",
    "run_model(bc, mr, mstep)"
   ]
  },
  {
   "cell_type": "code",
   "execution_count": 38,
   "metadata": {},
   "outputs": [
    {
     "data": {
      "text/plain": [
       "-32.649625237324535"
      ]
     },
     "execution_count": 38,
     "metadata": {},
     "output_type": "execute_result"
    }
   ],
   "source": [
    "sum(m_rewards)/mr"
   ]
  },
  {
   "cell_type": "code",
   "execution_count": 39,
   "metadata": {},
   "outputs": [
    {
     "data": {
      "text/plain": [
       "1000000"
      ]
     },
     "execution_count": 39,
     "metadata": {},
     "output_type": "execute_result"
    }
   ],
   "source": [
    "len(m_rewards)"
   ]
  },
  {
   "cell_type": "code",
   "execution_count": 30,
   "metadata": {},
   "outputs": [
    {
     "data": {
      "text/plain": [
       "2"
      ]
     },
     "execution_count": 30,
     "metadata": {},
     "output_type": "execute_result"
    }
   ],
   "source": [
    "2"
   ]
  },
  {
   "cell_type": "code",
   "execution_count": null,
   "metadata": {
    "collapsed": true
   },
   "outputs": [],
   "source": []
  }
 ],
 "metadata": {
  "kernelspec": {
   "display_name": "Python 3",
   "language": "python",
   "name": "python3"
  },
  "language_info": {
   "codemirror_mode": {
    "name": "ipython",
    "version": 3
   },
   "file_extension": ".py",
   "mimetype": "text/x-python",
   "name": "python",
   "nbconvert_exporter": "python",
   "pygments_lexer": "ipython3",
   "version": "3.5.3"
  }
 },
 "nbformat": 4,
 "nbformat_minor": 2
}
