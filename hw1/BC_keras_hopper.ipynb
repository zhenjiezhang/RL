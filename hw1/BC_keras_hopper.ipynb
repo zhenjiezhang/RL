{
 "cells": [
  {
   "cell_type": "code",
   "execution_count": 61,
   "metadata": {},
   "outputs": [],
   "source": [
    "import keras\n",
    "from keras.models import Sequential\n",
    "from keras.layers import Dense, Softmax, Input, BatchNormalization, Dropout\n",
    "\n",
    "from sklearn.model_selection import train_test_split\n",
    "\n",
    "import tensorflow as tf\n",
    "from load_policy import load_policy\n",
    "import pickle\n",
    "import numpy as np\n",
    "import gym\n",
    "\n",
    "import tf_util\n"
   ]
  },
  {
   "cell_type": "code",
   "execution_count": null,
   "metadata": {
    "collapsed": true
   },
   "outputs": [],
   "source": [
    "import tensorflow as tf\n",
    "from keras.backend.tensorflow_backend import set_session\n",
    "config = tf.ConfigProto()\n",
    "config.gpu_options.per_process_gpu_memory_fraction = 0.3\n",
    "set_session(tf.Session(config=config))"
   ]
  },
  {
   "cell_type": "code",
   "execution_count": 53,
   "metadata": {
    "collapsed": true
   },
   "outputs": [],
   "source": [
    "expert_policy_file = \"experts/Hopper-v1.pkl\"\n",
    "env_name = \"Hopper-v1\"\n",
    "rounds = 1000\n",
    "max_steps = 1000"
   ]
  },
  {
   "cell_type": "code",
   "execution_count": 54,
   "metadata": {},
   "outputs": [
    {
     "name": "stdout",
     "output_type": "stream",
     "text": [
      "obs (1, 11) (1, 11)\n"
     ]
    }
   ],
   "source": [
    "data = pickle.load(open(expert_policy_file, \"rb\"))\n",
    "policy_fn = load_policy(expert_policy_file)"
   ]
  },
  {
   "cell_type": "code",
   "execution_count": 55,
   "metadata": {},
   "outputs": [
    {
     "name": "stderr",
     "output_type": "stream",
     "text": [
      "[2018-06-06 01:31:39,553] Making new env: Hopper-v1\n"
     ]
    }
   ],
   "source": [
    "observations = []\n",
    "actions = []\n",
    "rewards = []\n",
    "\n",
    "with tf.Session() as sess:\n",
    "#     tf_util.initialize()\n",
    "    env = gym.make(env_name)\n",
    "    for i in range(rounds):\n",
    "        obs = env.reset()\n",
    "        r = 0\n",
    "        for s in range(max_steps):\n",
    "            action = policy_fn(obs[None,:])\n",
    "            observations.append(obs)\n",
    "            actions.append(action)\n",
    "            obs, r_, done, _ = env.step(action)\n",
    "            rewards.append(r_)\n",
    "            r += r_\n",
    "            if done:\n",
    "                break\n",
    "            "
   ]
  },
  {
   "cell_type": "code",
   "execution_count": 63,
   "metadata": {
    "collapsed": true
   },
   "outputs": [],
   "source": [
    "observations = np.array(observations)\n",
    "actions = np.vstack(actions)\n",
    "\n",
    "obs_train, obs_valid, act_train, act_valid = \\\n",
    "    train_test_split(observations, actions, test_size = 0.2, random_state = 1998)"
   ]
  },
  {
   "cell_type": "code",
   "execution_count": 171,
   "metadata": {},
   "outputs": [],
   "source": [
    "input_dim = observations.shape[-1]\n",
    "bc = Sequential()\n",
    "bc.add(Dense(32, input_dim=input_dim, kernel_initializer='normal', activation='relu'))\n",
    "bc.add(Dense(64, input_dim=input_dim, kernel_initializer='normal', activation='relu'))\n",
    "\n",
    "bc.add(Dense(256, kernel_initializer='normal', activation='relu'))\n",
    "# bc.add(BatchNormalization())\n",
    "# bc.add(Dropout(0.5))\n",
    "bc.add(Dense(64, kernel_initializer='normal', activation='relu'))\n",
    "\n",
    "bc.add(Dense(3, kernel_initializer='normal'))\n"
   ]
  },
  {
   "cell_type": "code",
   "execution_count": 172,
   "metadata": {},
   "outputs": [],
   "source": [
    "bc.compile(optimizer='adam',loss='mse', metrics=['accuracy', 'mae'])"
   ]
  },
  {
   "cell_type": "code",
   "execution_count": 173,
   "metadata": {},
   "outputs": [
    {
     "name": "stdout",
     "output_type": "stream",
     "text": [
      "Train on 800000 samples, validate on 200000 samples\n",
      "Epoch 1/15\n",
      "800000/800000 [==============================] - 4s 5us/step - loss: 0.0696 - acc: 0.9274 - mean_absolute_error: 0.1096 - val_loss: 0.0043 - val_acc: 0.9708 - val_mean_absolute_error: 0.0456\n",
      "Epoch 2/15\n",
      "800000/800000 [==============================] - 3s 4us/step - loss: 0.0024 - acc: 0.9769 - mean_absolute_error: 0.0342 - val_loss: 0.0017 - val_acc: 0.9804 - val_mean_absolute_error: 0.0286\n",
      "Epoch 3/15\n",
      "800000/800000 [==============================] - 3s 4us/step - loss: 0.0014 - acc: 0.9820 - mean_absolute_error: 0.0268 - val_loss: 0.0011 - val_acc: 0.9850 - val_mean_absolute_error: 0.0238\n",
      "Epoch 4/15\n",
      "800000/800000 [==============================] - 3s 4us/step - loss: 0.0011 - acc: 0.9840 - mean_absolute_error: 0.0236 - val_loss: 0.0011 - val_acc: 0.9845 - val_mean_absolute_error: 0.0226\n",
      "Epoch 5/15\n",
      "800000/800000 [==============================] - 3s 4us/step - loss: 9.1688e-04 - acc: 0.9855 - mean_absolute_error: 0.0215 - val_loss: 8.3980e-04 - val_acc: 0.9895 - val_mean_absolute_error: 0.0210\n",
      "Epoch 6/15\n",
      "800000/800000 [==============================] - 3s 4us/step - loss: 7.8988e-04 - acc: 0.9871 - mean_absolute_error: 0.0201 - val_loss: 5.5162e-04 - val_acc: 0.9885 - val_mean_absolute_error: 0.0165\n",
      "Epoch 7/15\n",
      "800000/800000 [==============================] - 3s 4us/step - loss: 6.8399e-04 - acc: 0.9885 - mean_absolute_error: 0.0187 - val_loss: 7.9807e-04 - val_acc: 0.9841 - val_mean_absolute_error: 0.0212\n",
      "Epoch 8/15\n",
      "800000/800000 [==============================] - 3s 4us/step - loss: 6.1174e-04 - acc: 0.9895 - mean_absolute_error: 0.0177 - val_loss: 8.5953e-04 - val_acc: 0.9917 - val_mean_absolute_error: 0.0215\n",
      "Epoch 9/15\n",
      "800000/800000 [==============================] - 3s 4us/step - loss: 5.4968e-04 - acc: 0.9900 - mean_absolute_error: 0.0169 - val_loss: 5.7748e-04 - val_acc: 0.9928 - val_mean_absolute_error: 0.0178\n",
      "Epoch 10/15\n",
      "800000/800000 [==============================] - 3s 4us/step - loss: 5.0187e-04 - acc: 0.9906 - mean_absolute_error: 0.0162 - val_loss: 4.1220e-04 - val_acc: 0.9907 - val_mean_absolute_error: 0.0145\n",
      "Epoch 11/15\n",
      "800000/800000 [==============================] - 3s 4us/step - loss: 4.3613e-04 - acc: 0.9913 - mean_absolute_error: 0.0151 - val_loss: 5.3951e-04 - val_acc: 0.9875 - val_mean_absolute_error: 0.0172\n",
      "Epoch 12/15\n",
      "800000/800000 [==============================] - 3s 4us/step - loss: 4.2439e-04 - acc: 0.9914 - mean_absolute_error: 0.0148 - val_loss: 2.6353e-04 - val_acc: 0.9942 - val_mean_absolute_error: 0.0118\n",
      "Epoch 13/15\n",
      "800000/800000 [==============================] - 3s 4us/step - loss: 3.9611e-04 - acc: 0.9915 - mean_absolute_error: 0.0144 - val_loss: 2.7709e-04 - val_acc: 0.9927 - val_mean_absolute_error: 0.0123\n",
      "Epoch 14/15\n",
      "800000/800000 [==============================] - 3s 4us/step - loss: 3.6404e-04 - acc: 0.9919 - mean_absolute_error: 0.0137 - val_loss: 2.4395e-04 - val_acc: 0.9940 - val_mean_absolute_error: 0.0112\n",
      "Epoch 15/15\n",
      "800000/800000 [==============================] - 3s 4us/step - loss: 3.5184e-04 - acc: 0.9920 - mean_absolute_error: 0.0136 - val_loss: 2.1114e-04 - val_acc: 0.9946 - val_mean_absolute_error: 0.0107\n"
     ]
    },
    {
     "data": {
      "text/plain": [
       "<keras.callbacks.History at 0x7f443793b320>"
      ]
     },
     "execution_count": 173,
     "metadata": {},
     "output_type": "execute_result"
    }
   ],
   "source": [
    "bc.fit(obs_train, act_train, validation_data=[obs_valid, act_valid],  epochs=15, batch_size= 512)"
   ]
  },
  {
   "cell_type": "code",
   "execution_count": 92,
   "metadata": {},
   "outputs": [
    {
     "data": {
      "text/plain": [
       "3777.9943277272437"
      ]
     },
     "execution_count": 92,
     "metadata": {},
     "output_type": "execute_result"
    }
   ],
   "source": [
    "sum(rewards)/1000"
   ]
  },
  {
   "cell_type": "code",
   "execution_count": 174,
   "metadata": {},
   "outputs": [
    {
     "data": {
      "text/plain": [
       "array([[-2.9968495,  2.3936622,  2.0564926]], dtype=float32)"
      ]
     },
     "execution_count": 174,
     "metadata": {},
     "output_type": "execute_result"
    }
   ],
   "source": [
    "o = np.random.random(11)[None, :]\n",
    "bc.predict(o)"
   ]
  },
  {
   "cell_type": "code",
   "execution_count": 175,
   "metadata": {},
   "outputs": [
    {
     "name": "stdout",
     "output_type": "stream",
     "text": [
      "[[-2.602352  -4.7028055  2.0624363]]\n"
     ]
    }
   ],
   "source": [
    "with tf.Session():\n",
    "    print(policy_fn(o))"
   ]
  },
  {
   "cell_type": "code",
   "execution_count": 176,
   "metadata": {
    "collapsed": true
   },
   "outputs": [],
   "source": [
    "m_rewards = []\n",
    "\n",
    "def run_model(m, m_rounds, max_steps):\n",
    "    env = gym.make(env_name)\n",
    "    for i in range(m_rounds):\n",
    "        obs = env.reset()\n",
    "        r = 0\n",
    "        for s in range(max_steps):\n",
    "            action = m.predict(obs[None,:])\n",
    "#             observations.append(obs)\n",
    "#             actions.append(action)\n",
    "            obs, r_, done, _ = env.step(action)\n",
    "            m_rewards.append(r_)\n",
    "#             r += r_\n",
    "            if done:\n",
    "                break"
   ]
  },
  {
   "cell_type": "code",
   "execution_count": 179,
   "metadata": {},
   "outputs": [
    {
     "name": "stderr",
     "output_type": "stream",
     "text": [
      "[2018-06-06 02:30:45,282] Making new env: Hopper-v1\n"
     ]
    }
   ],
   "source": [
    "run_model(bc, 1000, 1000)"
   ]
  },
  {
   "cell_type": "code",
   "execution_count": 180,
   "metadata": {},
   "outputs": [
    {
     "data": {
      "text/plain": [
       "3525.8924162780386"
      ]
     },
     "execution_count": 180,
     "metadata": {},
     "output_type": "execute_result"
    }
   ],
   "source": [
    "sum(m_rewards)/1000"
   ]
  },
  {
   "cell_type": "code",
   "execution_count": 181,
   "metadata": {},
   "outputs": [
    {
     "data": {
      "text/plain": [
       "968356"
      ]
     },
     "execution_count": 181,
     "metadata": {},
     "output_type": "execute_result"
    }
   ],
   "source": [
    "len(m_rewards)"
   ]
  },
  {
   "cell_type": "code",
   "execution_count": null,
   "metadata": {
    "collapsed": true
   },
   "outputs": [],
   "source": []
  }
 ],
 "metadata": {
  "kernelspec": {
   "display_name": "Python 3",
   "language": "python",
   "name": "python3"
  },
  "language_info": {
   "codemirror_mode": {
    "name": "ipython",
    "version": 3
   },
   "file_extension": ".py",
   "mimetype": "text/x-python",
   "name": "python",
   "nbconvert_exporter": "python",
   "pygments_lexer": "ipython3",
   "version": "3.5.3"
  }
 },
 "nbformat": 4,
 "nbformat_minor": 2
}
