{
 "cells": [
  {
   "cell_type": "code",
   "execution_count": 3,
   "metadata": {},
   "outputs": [
    {
     "name": "stderr",
     "output_type": "stream",
     "text": [
      "Using TensorFlow backend.\n"
     ]
    }
   ],
   "source": [
    "import keras\n",
    "from keras.models import Sequential\n",
    "from keras.layers import Dense, Softmax, Input, BatchNormalization, Dropout\n",
    "\n",
    "from sklearn.model_selection import train_test_split\n",
    "\n",
    "import tensorflow as tf\n",
    "from load_policy import load_policy\n",
    "import pickle\n",
    "import numpy as np\n",
    "import gym\n",
    "\n",
    "import tf_util\n"
   ]
  },
  {
   "cell_type": "code",
   "execution_count": 4,
   "metadata": {
    "collapsed": true
   },
   "outputs": [],
   "source": [
    "import tensorflow as tf\n",
    "from keras.backend.tensorflow_backend import set_session\n",
    "config = tf.ConfigProto()\n",
    "config.gpu_options.per_process_gpu_memory_fraction = 0.3\n",
    "set_session(tf.Session(config=config))"
   ]
  },
  {
   "cell_type": "code",
   "execution_count": 5,
   "metadata": {
    "collapsed": true
   },
   "outputs": [],
   "source": [
    "expert_policy_file = \"experts/Walker2d-v1.pkl\"\n",
    "env_name = \"Walker2d-v1\"\n",
    "rounds = 1000\n",
    "max_steps = 1000"
   ]
  },
  {
   "cell_type": "code",
   "execution_count": 6,
   "metadata": {},
   "outputs": [
    {
     "name": "stdout",
     "output_type": "stream",
     "text": [
      "obs (1, 17) (1, 17)\n"
     ]
    }
   ],
   "source": [
    "data = pickle.load(open(expert_policy_file, \"rb\"))\n",
    "policy_fn = load_policy(expert_policy_file)"
   ]
  },
  {
   "cell_type": "code",
   "execution_count": 7,
   "metadata": {},
   "outputs": [
    {
     "name": "stderr",
     "output_type": "stream",
     "text": [
      "[2018-06-06 16:42:21,591] Making new env: Walker2d-v1\n"
     ]
    },
    {
     "name": "stdout",
     "output_type": "stream",
     "text": [
      "100\n",
      "200\n",
      "300\n",
      "400\n",
      "500\n",
      "600\n",
      "700\n",
      "800\n",
      "900\n"
     ]
    }
   ],
   "source": [
    "observations = []\n",
    "actions = []\n",
    "rewards = []\n",
    "\n",
    "with tf.Session() as sess:\n",
    "#     tf_util.initialize()\n",
    "    env = gym.make(env_name)\n",
    "    for i in range(rounds):\n",
    "        obs = env.reset()\n",
    "        r = 0\n",
    "        for s in range(max_steps):\n",
    "            action = policy_fn(obs[None,:])\n",
    "            observations.append(obs)\n",
    "            actions.append(action)\n",
    "            obs, r_, done, _ = env.step(action)\n",
    "            rewards.append(r_)\n",
    "            r += r_\n",
    "            if done:\n",
    "                break\n",
    "        if i and i%100 == 0:\n",
    "            print(i)\n",
    "            "
   ]
  },
  {
   "cell_type": "code",
   "execution_count": 8,
   "metadata": {
    "collapsed": true
   },
   "outputs": [],
   "source": [
    "observations = np.array(observations)\n",
    "actions = np.vstack(actions)\n",
    "rewards = np.array(rewards)\n",
    "\n",
    "obs_train, obs_valid, act_train, act_valid = \\\n",
    "    train_test_split(observations, actions, test_size = 0.2, random_state = 1998)"
   ]
  },
  {
   "cell_type": "code",
   "execution_count": 9,
   "metadata": {},
   "outputs": [
    {
     "data": {
      "text/plain": [
       "(998363, 6)"
      ]
     },
     "execution_count": 9,
     "metadata": {},
     "output_type": "execute_result"
    }
   ],
   "source": [
    "actions.shape"
   ]
  },
  {
   "cell_type": "code",
   "execution_count": 10,
   "metadata": {
    "collapsed": true
   },
   "outputs": [],
   "source": [
    "input_dim = observations.shape[-1]\n",
    "bc = Sequential()\n",
    "bc.add(Dense(32, input_dim=input_dim, kernel_initializer='normal', activation='relu'))\n",
    "bc.add(Dense(512, input_dim=input_dim, kernel_initializer='normal', activation='relu'))\n",
    "\n",
    "# bc.add(Dense(512, kernel_initializer='normal', activation='relu'))\n",
    "# bc.add(BatchNormalization())\n",
    "# bc.add(Dropout(0.5))\n",
    "bc.add(Dense(32, kernel_initializer='normal', activation='relu'))\n",
    "\n",
    "bc.add(Dense(6, kernel_initializer='normal'))\n"
   ]
  },
  {
   "cell_type": "code",
   "execution_count": 11,
   "metadata": {
    "collapsed": true
   },
   "outputs": [],
   "source": [
    "bc.compile(optimizer='adam',loss='mse', metrics=['accuracy', 'mae'])"
   ]
  },
  {
   "cell_type": "code",
   "execution_count": 13,
   "metadata": {},
   "outputs": [
    {
     "name": "stdout",
     "output_type": "stream",
     "text": [
      "Train on 798690 samples, validate on 199673 samples\n",
      "Epoch 1/10\n",
      "798690/798690 [==============================] - 3s 4us/step - loss: 0.0022 - acc: 0.9746 - mean_absolute_error: 0.0344 - val_loss: 0.0021 - val_acc: 0.9750 - val_mean_absolute_error: 0.0335\n",
      "Epoch 2/10\n",
      "798690/798690 [==============================] - 3s 4us/step - loss: 0.0020 - acc: 0.9753 - mean_absolute_error: 0.0331 - val_loss: 0.0019 - val_acc: 0.9756 - val_mean_absolute_error: 0.0316\n",
      "Epoch 3/10\n",
      "798690/798690 [==============================] - 3s 4us/step - loss: 0.0019 - acc: 0.9762 - mean_absolute_error: 0.0322 - val_loss: 0.0027 - val_acc: 0.9727 - val_mean_absolute_error: 0.0395\n",
      "Epoch 4/10\n",
      "798690/798690 [==============================] - 3s 4us/step - loss: 0.0018 - acc: 0.9766 - mean_absolute_error: 0.0314 - val_loss: 0.0026 - val_acc: 0.9664 - val_mean_absolute_error: 0.0384\n",
      "Epoch 5/10\n",
      "798690/798690 [==============================] - 3s 4us/step - loss: 0.0018 - acc: 0.9769 - mean_absolute_error: 0.0307 - val_loss: 0.0017 - val_acc: 0.9742 - val_mean_absolute_error: 0.0299\n",
      "Epoch 6/10\n",
      "798690/798690 [==============================] - 3s 4us/step - loss: 0.0017 - acc: 0.9771 - mean_absolute_error: 0.0300 - val_loss: 0.0017 - val_acc: 0.9769 - val_mean_absolute_error: 0.0303\n",
      "Epoch 7/10\n",
      "798690/798690 [==============================] - 3s 4us/step - loss: 0.0016 - acc: 0.9776 - mean_absolute_error: 0.0295 - val_loss: 0.0016 - val_acc: 0.9774 - val_mean_absolute_error: 0.0296\n",
      "Epoch 8/10\n",
      "798690/798690 [==============================] - 3s 4us/step - loss: 0.0015 - acc: 0.9780 - mean_absolute_error: 0.0287 - val_loss: 0.0013 - val_acc: 0.9786 - val_mean_absolute_error: 0.0264\n",
      "Epoch 9/10\n",
      "798690/798690 [==============================] - 3s 4us/step - loss: 0.0015 - acc: 0.9782 - mean_absolute_error: 0.0284 - val_loss: 0.0013 - val_acc: 0.9799 - val_mean_absolute_error: 0.0263\n",
      "Epoch 10/10\n",
      "798690/798690 [==============================] - 3s 4us/step - loss: 0.0014 - acc: 0.9786 - mean_absolute_error: 0.0277 - val_loss: 0.0014 - val_acc: 0.9805 - val_mean_absolute_error: 0.0278\n"
     ]
    },
    {
     "data": {
      "text/plain": [
       "<keras.callbacks.History at 0x7fe6d714bef0>"
      ]
     },
     "execution_count": 13,
     "metadata": {},
     "output_type": "execute_result"
    }
   ],
   "source": [
    "bc.fit(obs_train, act_train, validation_data=[obs_valid, act_valid],  epochs=10, batch_size= 512)"
   ]
  },
  {
   "cell_type": "code",
   "execution_count": 14,
   "metadata": {},
   "outputs": [
    {
     "data": {
      "text/plain": [
       "5509.277511763128"
      ]
     },
     "execution_count": 14,
     "metadata": {},
     "output_type": "execute_result"
    }
   ],
   "source": [
    "rewards.sum()/1000"
   ]
  },
  {
   "cell_type": "code",
   "execution_count": 17,
   "metadata": {},
   "outputs": [
    {
     "data": {
      "text/plain": [
       "array([[-0.29866973, -0.7448158 , -1.0156887 ,  2.5458589 , -0.6921852 ,\n",
       "        -0.40345457]], dtype=float32)"
      ]
     },
     "execution_count": 17,
     "metadata": {},
     "output_type": "execute_result"
    }
   ],
   "source": [
    "o = np.random.random(17)[None, :]\n",
    "bc.predict(o)"
   ]
  },
  {
   "cell_type": "code",
   "execution_count": 18,
   "metadata": {},
   "outputs": [
    {
     "name": "stdout",
     "output_type": "stream",
     "text": [
      "[[-1.0374253  -1.5427535  -1.2263341   2.555836    0.31547225 -0.62651265]]\n"
     ]
    }
   ],
   "source": [
    "with tf.Session():\n",
    "    print(policy_fn(o))"
   ]
  },
  {
   "cell_type": "code",
   "execution_count": 23,
   "metadata": {
    "collapsed": true
   },
   "outputs": [],
   "source": [
    "m_rewards = []\n",
    "\n",
    "def run_model(m, m_rounds, max_steps):\n",
    "    env = gym.make(env_name)\n",
    "    for i in range(m_rounds):\n",
    "        obs = env.reset()\n",
    "        r = 0\n",
    "        for s in range(max_steps):\n",
    "            action = m.predict(obs[None,:])\n",
    "#             observations.append(obs)\n",
    "#             actions.append(action)\n",
    "            obs, r_, done, _ = env.step(action)\n",
    "            m_rewards.append(r_)\n",
    "#             r += r_\n",
    "            if done:\n",
    "                break"
   ]
  },
  {
   "cell_type": "code",
   "execution_count": 24,
   "metadata": {},
   "outputs": [
    {
     "name": "stderr",
     "output_type": "stream",
     "text": [
      "[2018-06-06 17:07:12,149] Making new env: Walker2d-v1\n"
     ]
    }
   ],
   "source": [
    "mr = 1000\n",
    "mstep = 1000\n",
    "run_model(bc, mr, mstep)"
   ]
  },
  {
   "cell_type": "code",
   "execution_count": 25,
   "metadata": {},
   "outputs": [
    {
     "data": {
      "text/plain": [
       "5496.529803095356"
      ]
     },
     "execution_count": 25,
     "metadata": {},
     "output_type": "execute_result"
    }
   ],
   "source": [
    "sum(m_rewards)/mr"
   ]
  },
  {
   "cell_type": "code",
   "execution_count": 26,
   "metadata": {},
   "outputs": [
    {
     "data": {
      "text/plain": [
       "998417"
      ]
     },
     "execution_count": 26,
     "metadata": {},
     "output_type": "execute_result"
    }
   ],
   "source": [
    "len(m_rewards)"
   ]
  },
  {
   "cell_type": "code",
   "execution_count": 30,
   "metadata": {},
   "outputs": [
    {
     "data": {
      "text/plain": [
       "2"
      ]
     },
     "execution_count": 30,
     "metadata": {},
     "output_type": "execute_result"
    }
   ],
   "source": [
    "2"
   ]
  },
  {
   "cell_type": "code",
   "execution_count": null,
   "metadata": {
    "collapsed": true
   },
   "outputs": [],
   "source": []
  }
 ],
 "metadata": {
  "kernelspec": {
   "display_name": "Python 3",
   "language": "python",
   "name": "python3"
  },
  "language_info": {
   "codemirror_mode": {
    "name": "ipython",
    "version": 3
   },
   "file_extension": ".py",
   "mimetype": "text/x-python",
   "name": "python",
   "nbconvert_exporter": "python",
   "pygments_lexer": "ipython3",
   "version": "3.5.3"
  }
 },
 "nbformat": 4,
 "nbformat_minor": 2
}
