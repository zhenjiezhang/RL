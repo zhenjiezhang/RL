{
 "cells": [
  {
   "cell_type": "code",
   "execution_count": 2,
   "metadata": {},
   "outputs": [
    {
     "name": "stderr",
     "output_type": "stream",
     "text": [
      "Using TensorFlow backend.\n"
     ]
    }
   ],
   "source": [
    "import keras\n",
    "from keras.models import Sequential\n",
    "from keras.layers import Dense, Softmax, Input, BatchNormalization, Dropout\n",
    "\n",
    "from sklearn.model_selection import train_test_split\n",
    "\n",
    "import tensorflow as tf\n",
    "from load_policy import load_policy\n",
    "import pickle\n",
    "import numpy as np\n",
    "import gym\n",
    "\n",
    "import tf_util\n"
   ]
  },
  {
   "cell_type": "code",
   "execution_count": 3,
   "metadata": {
    "collapsed": true
   },
   "outputs": [],
   "source": [
    "import tensorflow as tf\n",
    "from keras.backend.tensorflow_backend import set_session\n",
    "config = tf.ConfigProto()\n",
    "config.gpu_options.per_process_gpu_memory_fraction = 0.3\n",
    "set_session(tf.Session(config=config))"
   ]
  },
  {
   "cell_type": "code",
   "execution_count": 6,
   "metadata": {
    "collapsed": true
   },
   "outputs": [],
   "source": [
    "expert_policy_file = \"experts/HalfCheetah-v1.pkl\"\n",
    "env_name = \"HalfCheetah-v1\"\n",
    "rounds = 1000\n",
    "max_steps = 1000"
   ]
  },
  {
   "cell_type": "code",
   "execution_count": 7,
   "metadata": {},
   "outputs": [
    {
     "name": "stdout",
     "output_type": "stream",
     "text": [
      "obs (1, 17) (1, 17)\n"
     ]
    }
   ],
   "source": [
    "data = pickle.load(open(expert_policy_file, \"rb\"))\n",
    "policy_fn = load_policy(expert_policy_file)"
   ]
  },
  {
   "cell_type": "code",
   "execution_count": 8,
   "metadata": {},
   "outputs": [
    {
     "name": "stderr",
     "output_type": "stream",
     "text": [
      "[2018-06-06 12:50:22,511] Making new env: HalfCheetah-v1\n"
     ]
    },
    {
     "name": "stdout",
     "output_type": "stream",
     "text": [
      "100\n",
      "200\n",
      "300\n",
      "400\n",
      "500\n",
      "600\n",
      "700\n",
      "800\n",
      "900\n"
     ]
    }
   ],
   "source": [
    "observations = []\n",
    "actions = []\n",
    "rewards = []\n",
    "\n",
    "with tf.Session() as sess:\n",
    "#     tf_util.initialize()\n",
    "    env = gym.make(env_name)\n",
    "    for i in range(rounds):\n",
    "        obs = env.reset()\n",
    "        r = 0\n",
    "        for s in range(max_steps):\n",
    "            action = policy_fn(obs[None,:])\n",
    "            observations.append(obs)\n",
    "            actions.append(action)\n",
    "            obs, r_, done, _ = env.step(action)\n",
    "            rewards.append(r_)\n",
    "            r += r_\n",
    "            if done:\n",
    "                break\n",
    "        if i and i%100 == 0:\n",
    "            print(i)\n",
    "            "
   ]
  },
  {
   "cell_type": "code",
   "execution_count": 9,
   "metadata": {
    "collapsed": true
   },
   "outputs": [],
   "source": [
    "observations = np.array(observations)\n",
    "actions = np.vstack(actions)\n",
    "rewards = np.array(rewards)\n",
    "\n",
    "obs_train, obs_valid, act_train, act_valid = \\\n",
    "    train_test_split(observations, actions, test_size = 0.2, random_state = 1998)"
   ]
  },
  {
   "cell_type": "code",
   "execution_count": 10,
   "metadata": {},
   "outputs": [
    {
     "data": {
      "text/plain": [
       "(1000000, 6)"
      ]
     },
     "execution_count": 10,
     "metadata": {},
     "output_type": "execute_result"
    }
   ],
   "source": [
    "actions.shape"
   ]
  },
  {
   "cell_type": "code",
   "execution_count": 14,
   "metadata": {
    "collapsed": true
   },
   "outputs": [],
   "source": [
    "input_dim = observations.shape[-1]\n",
    "bc = Sequential()\n",
    "bc.add(Dense(32, input_dim=input_dim, kernel_initializer='normal', activation='relu'))\n",
    "bc.add(Dense(128, input_dim=input_dim, kernel_initializer='normal', activation='relu'))\n",
    "\n",
    "bc.add(Dense(512, kernel_initializer='normal', activation='relu'))\n",
    "# bc.add(BatchNormalization())\n",
    "# bc.add(Dropout(0.5))\n",
    "bc.add(Dense(128, kernel_initializer='normal', activation='relu'))\n",
    "\n",
    "bc.add(Dense(6, kernel_initializer='normal'))\n"
   ]
  },
  {
   "cell_type": "code",
   "execution_count": 15,
   "metadata": {
    "collapsed": true
   },
   "outputs": [],
   "source": [
    "bc.compile(optimizer='adam',loss='mse', metrics=['accuracy', 'mae'])"
   ]
  },
  {
   "cell_type": "code",
   "execution_count": null,
   "metadata": {},
   "outputs": [
    {
     "name": "stdout",
     "output_type": "stream",
     "text": [
      "Train on 800000 samples, validate on 200000 samples\n",
      "Epoch 1/20\n",
      "800000/800000 [==============================] - 3s 4us/step - loss: 0.0167 - acc: 0.9060 - mean_absolute_error: 0.0711 - val_loss: 0.0027 - val_acc: 0.9414 - val_mean_absolute_error: 0.0372\n",
      "Epoch 2/20\n",
      "800000/800000 [==============================] - 3s 4us/step - loss: 0.0015 - acc: 0.9603 - mean_absolute_error: 0.0275 - val_loss: 0.0010 - val_acc: 0.9692 - val_mean_absolute_error: 0.0232\n",
      "Epoch 3/20\n",
      "800000/800000 [==============================] - 3s 4us/step - loss: 8.6379e-04 - acc: 0.9688 - mean_absolute_error: 0.0213 - val_loss: 0.0011 - val_acc: 0.9592 - val_mean_absolute_error: 0.0237\n",
      "Epoch 4/20\n",
      "800000/800000 [==============================] - 3s 4us/step - loss: 6.3799e-04 - acc: 0.9729 - mean_absolute_error: 0.0184 - val_loss: 5.4850e-04 - val_acc: 0.9733 - val_mean_absolute_error: 0.0172\n",
      "Epoch 5/20\n",
      "800000/800000 [==============================] - 3s 4us/step - loss: 5.1200e-04 - acc: 0.9759 - mean_absolute_error: 0.0166 - val_loss: 5.6639e-04 - val_acc: 0.9740 - val_mean_absolute_error: 0.0179\n",
      "Epoch 6/20\n",
      "800000/800000 [==============================] - 3s 4us/step - loss: 4.4199e-04 - acc: 0.9776 - mean_absolute_error: 0.0155 - val_loss: 4.1223e-04 - val_acc: 0.9790 - val_mean_absolute_error: 0.0150\n",
      "Epoch 7/20\n",
      "800000/800000 [==============================] - 3s 4us/step - loss: 3.9382e-04 - acc: 0.9788 - mean_absolute_error: 0.0146 - val_loss: 4.3437e-04 - val_acc: 0.9718 - val_mean_absolute_error: 0.0157\n",
      "Epoch 8/20\n",
      "800000/800000 [==============================] - 3s 4us/step - loss: 3.5280e-04 - acc: 0.9799 - mean_absolute_error: 0.0138 - val_loss: 3.2157e-04 - val_acc: 0.9834 - val_mean_absolute_error: 0.0132\n",
      "Epoch 9/20\n",
      "800000/800000 [==============================] - 3s 4us/step - loss: 3.3260e-04 - acc: 0.9804 - mean_absolute_error: 0.0135 - val_loss: 2.9070e-04 - val_acc: 0.9814 - val_mean_absolute_error: 0.0125\n",
      "Epoch 10/20\n",
      "800000/800000 [==============================] - 3s 4us/step - loss: 3.0514e-04 - acc: 0.9814 - mean_absolute_error: 0.0129 - val_loss: 2.1956e-04 - val_acc: 0.9837 - val_mean_absolute_error: 0.0105\n",
      "Epoch 11/20\n",
      "800000/800000 [==============================] - 3s 4us/step - loss: 2.8619e-04 - acc: 0.9821 - mean_absolute_error: 0.0125 - val_loss: 2.5621e-04 - val_acc: 0.9840 - val_mean_absolute_error: 0.0119\n",
      "Epoch 12/20\n",
      "800000/800000 [==============================] - 3s 4us/step - loss: 2.7385e-04 - acc: 0.9821 - mean_absolute_error: 0.0123 - val_loss: 2.2288e-04 - val_acc: 0.9838 - val_mean_absolute_error: 0.0107\n",
      "Epoch 13/20\n",
      "800000/800000 [==============================] - 3s 4us/step - loss: 2.6285e-04 - acc: 0.9826 - mean_absolute_error: 0.0120 - val_loss: 3.4609e-04 - val_acc: 0.9823 - val_mean_absolute_error: 0.0140\n",
      "Epoch 14/20\n",
      "800000/800000 [==============================] - 3s 4us/step - loss: 2.5644e-04 - acc: 0.9829 - mean_absolute_error: 0.0118 - val_loss: 2.5735e-04 - val_acc: 0.9809 - val_mean_absolute_error: 0.0121\n",
      "Epoch 15/20\n",
      "800000/800000 [==============================] - 3s 4us/step - loss: 2.3847e-04 - acc: 0.9833 - mean_absolute_error: 0.0114 - val_loss: 1.9701e-04 - val_acc: 0.9868 - val_mean_absolute_error: 0.0104\n",
      "Epoch 16/20\n",
      "800000/800000 [==============================] - 3s 4us/step - loss: 2.3390e-04 - acc: 0.9836 - mean_absolute_error: 0.0113 - val_loss: 2.0758e-04 - val_acc: 0.9829 - val_mean_absolute_error: 0.0104\n",
      "Epoch 17/20\n",
      "800000/800000 [==============================] - 3s 4us/step - loss: 2.2153e-04 - acc: 0.9839 - mean_absolute_error: 0.0110 - val_loss: 1.9076e-04 - val_acc: 0.9840 - val_mean_absolute_error: 0.0101\n",
      "Epoch 18/20\n",
      "800000/800000 [==============================] - 3s 4us/step - loss: 2.2052e-04 - acc: 0.9839 - mean_absolute_error: 0.0110 - val_loss: 1.7855e-04 - val_acc: 0.9866 - val_mean_absolute_error: 0.0095\n",
      "Epoch 19/20\n",
      "332288/800000 [===========>..................] - ETA: 1s - loss: 2.1709e-04 - acc: 0.9843 - mean_absolute_error: 0.0109"
     ]
    }
   ],
   "source": [
    "bc.fit(obs_train, act_train, validation_data=[obs_valid, act_valid],  epochs=20, batch_size= 512)"
   ]
  },
  {
   "cell_type": "code",
   "execution_count": 19,
   "metadata": {},
   "outputs": [
    {
     "data": {
      "text/plain": [
       "4139.245206793351"
      ]
     },
     "execution_count": 19,
     "metadata": {},
     "output_type": "execute_result"
    }
   ],
   "source": [
    "rewards.sum()/1000"
   ]
  },
  {
   "cell_type": "code",
   "execution_count": 20,
   "metadata": {},
   "outputs": [
    {
     "data": {
      "text/plain": [
       "array([[-1.4889042 , -0.15402749, -0.26528874, -0.7841745 ,  0.13741665,\n",
       "         1.2115028 ]], dtype=float32)"
      ]
     },
     "execution_count": 20,
     "metadata": {},
     "output_type": "execute_result"
    }
   ],
   "source": [
    "o = np.random.random(17)[None, :]\n",
    "bc.predict(o)"
   ]
  },
  {
   "cell_type": "code",
   "execution_count": 21,
   "metadata": {},
   "outputs": [
    {
     "name": "stdout",
     "output_type": "stream",
     "text": [
      "[[-1.7382091  -0.3162961  -0.05374527 -0.9472675   0.22024074  1.1463321 ]]\n"
     ]
    }
   ],
   "source": [
    "with tf.Session():\n",
    "    print(policy_fn(o))"
   ]
  },
  {
   "cell_type": "code",
   "execution_count": 26,
   "metadata": {
    "collapsed": true
   },
   "outputs": [],
   "source": [
    "m_rewards = []\n",
    "\n",
    "def run_model(m, m_rounds, max_steps):\n",
    "    env = gym.make(env_name)\n",
    "    for i in range(m_rounds):\n",
    "        obs = env.reset()\n",
    "        r = 0\n",
    "        for s in range(max_steps):\n",
    "            action = m.predict(obs[None,:])\n",
    "#             observations.append(obs)\n",
    "#             actions.append(action)\n",
    "            obs, r_, done, _ = env.step(action)\n",
    "            m_rewards.append(r_)\n",
    "#             r += r_\n",
    "            if done:\n",
    "                break"
   ]
  },
  {
   "cell_type": "code",
   "execution_count": null,
   "metadata": {},
   "outputs": [
    {
     "name": "stderr",
     "output_type": "stream",
     "text": [
      "[2018-06-06 13:16:52,750] Making new env: HalfCheetah-v1\n"
     ]
    }
   ],
   "source": [
    "mr = 1000\n",
    "mstep = 1000\n",
    "run_model(bc, mr, mstep)"
   ]
  },
  {
   "cell_type": "code",
   "execution_count": 31,
   "metadata": {},
   "outputs": [
    {
     "data": {
      "text/plain": [
       "4146.06614365795"
      ]
     },
     "execution_count": 31,
     "metadata": {},
     "output_type": "execute_result"
    }
   ],
   "source": [
    "sum(m_rewards)/mr"
   ]
  },
  {
   "cell_type": "code",
   "execution_count": 32,
   "metadata": {},
   "outputs": [
    {
     "data": {
      "text/plain": [
       "1000000"
      ]
     },
     "execution_count": 32,
     "metadata": {},
     "output_type": "execute_result"
    }
   ],
   "source": [
    "len(m_rewards)"
   ]
  },
  {
   "cell_type": "code",
   "execution_count": 30,
   "metadata": {},
   "outputs": [
    {
     "data": {
      "text/plain": [
       "2"
      ]
     },
     "execution_count": 30,
     "metadata": {},
     "output_type": "execute_result"
    }
   ],
   "source": [
    "2"
   ]
  },
  {
   "cell_type": "code",
   "execution_count": null,
   "metadata": {
    "collapsed": true
   },
   "outputs": [],
   "source": []
  }
 ],
 "metadata": {
  "kernelspec": {
   "display_name": "Python 3",
   "language": "python",
   "name": "python3"
  },
  "language_info": {
   "codemirror_mode": {
    "name": "ipython",
    "version": 3
   },
   "file_extension": ".py",
   "mimetype": "text/x-python",
   "name": "python",
   "nbconvert_exporter": "python",
   "pygments_lexer": "ipython3",
   "version": "3.5.3"
  }
 },
 "nbformat": 4,
 "nbformat_minor": 2
}
