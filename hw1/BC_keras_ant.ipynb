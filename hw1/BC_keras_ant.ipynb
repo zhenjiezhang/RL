{
 "cells": [
  {
   "cell_type": "code",
   "execution_count": 1,
   "metadata": {},
   "outputs": [
    {
     "name": "stderr",
     "output_type": "stream",
     "text": [
      "Using TensorFlow backend.\n"
     ]
    }
   ],
   "source": [
    "import keras\n",
    "from keras.models import Sequential\n",
    "from keras.layers import Dense, Softmax, Input, BatchNormalization, Dropout\n",
    "\n",
    "from sklearn.model_selection import train_test_split\n",
    "\n",
    "import tensorflow as tf\n",
    "from load_policy import load_policy\n",
    "import pickle\n",
    "import numpy as np\n",
    "import gym\n",
    "\n",
    "import tf_util\n"
   ]
  },
  {
   "cell_type": "code",
   "execution_count": 2,
   "metadata": {
    "collapsed": true
   },
   "outputs": [],
   "source": [
    "import tensorflow as tf\n",
    "from keras.backend.tensorflow_backend import set_session\n",
    "config = tf.ConfigProto()\n",
    "config.gpu_options.per_process_gpu_memory_fraction = 0.3\n",
    "set_session(tf.Session(config=config))"
   ]
  },
  {
   "cell_type": "code",
   "execution_count": 3,
   "metadata": {
    "collapsed": true
   },
   "outputs": [],
   "source": [
    "expert_policy_file = \"experts/Ant-v1.pkl\"\n",
    "env_name = \"Ant-v1\"\n",
    "rounds = 1000\n",
    "max_steps = 1000"
   ]
  },
  {
   "cell_type": "code",
   "execution_count": 4,
   "metadata": {},
   "outputs": [
    {
     "name": "stdout",
     "output_type": "stream",
     "text": [
      "obs (1, 111) (1, 111)\n"
     ]
    }
   ],
   "source": [
    "data = pickle.load(open(expert_policy_file, \"rb\"))\n",
    "policy_fn = load_policy(expert_policy_file)"
   ]
  },
  {
   "cell_type": "code",
   "execution_count": 6,
   "metadata": {},
   "outputs": [
    {
     "name": "stderr",
     "output_type": "stream",
     "text": [
      "[2018-06-06 11:31:00,324] Making new env: Ant-v1\n"
     ]
    },
    {
     "name": "stdout",
     "output_type": "stream",
     "text": [
      "100\n",
      "200\n",
      "300\n",
      "400\n",
      "500\n",
      "600\n",
      "700\n",
      "800\n",
      "900\n"
     ]
    }
   ],
   "source": [
    "observations = []\n",
    "actions = []\n",
    "rewards = []\n",
    "\n",
    "with tf.Session() as sess:\n",
    "#     tf_util.initialize()\n",
    "    env = gym.make(env_name)\n",
    "    for i in range(rounds):\n",
    "        obs = env.reset()\n",
    "        r = 0\n",
    "        for s in range(max_steps):\n",
    "            action = policy_fn(obs[None,:])\n",
    "            observations.append(obs)\n",
    "            actions.append(action)\n",
    "            obs, r_, done, _ = env.step(action)\n",
    "            rewards.append(r_)\n",
    "            r += r_\n",
    "            if done:\n",
    "                break\n",
    "        if i and i%100 == 0:\n",
    "            print(i)\n",
    "            "
   ]
  },
  {
   "cell_type": "code",
   "execution_count": 7,
   "metadata": {
    "collapsed": true
   },
   "outputs": [],
   "source": [
    "observations = np.array(observations)\n",
    "actions = np.vstack(actions)\n",
    "rewards = np.array(rewards)\n",
    "\n",
    "obs_train, obs_valid, act_train, act_valid = \\\n",
    "    train_test_split(observations, actions, test_size = 0.2, random_state = 1998)"
   ]
  },
  {
   "cell_type": "code",
   "execution_count": 8,
   "metadata": {},
   "outputs": [
    {
     "data": {
      "text/plain": [
       "(992759, 8)"
      ]
     },
     "execution_count": 8,
     "metadata": {},
     "output_type": "execute_result"
    }
   ],
   "source": [
    "actions.shape"
   ]
  },
  {
   "cell_type": "code",
   "execution_count": 15,
   "metadata": {
    "collapsed": true
   },
   "outputs": [],
   "source": [
    "input_dim = observations.shape[-1]\n",
    "bc = Sequential()\n",
    "bc.add(Dense(512, input_dim=input_dim, kernel_initializer='normal', activation='relu'))\n",
    "bc.add(Dense(1024, input_dim=input_dim, kernel_initializer='normal', activation='relu'))\n",
    "\n",
    "bc.add(Dense(512, kernel_initializer='normal', activation='relu'))\n",
    "# bc.add(BatchNormalization())\n",
    "# bc.add(Dropout(0.5))\n",
    "bc.add(Dense(64, kernel_initializer='normal', activation='relu'))\n",
    "\n",
    "bc.add(Dense(8, kernel_initializer='normal'))\n"
   ]
  },
  {
   "cell_type": "code",
   "execution_count": 16,
   "metadata": {
    "collapsed": true
   },
   "outputs": [],
   "source": [
    "bc.compile(optimizer='adam',loss='mse', metrics=['accuracy', 'mae'])"
   ]
  },
  {
   "cell_type": "code",
   "execution_count": 17,
   "metadata": {},
   "outputs": [
    {
     "name": "stdout",
     "output_type": "stream",
     "text": [
      "Train on 794207 samples, validate on 198552 samples\n",
      "Epoch 1/20\n",
      "794207/794207 [==============================] - 6s 7us/step - loss: 0.0026 - acc: 0.9041 - mean_absolute_error: 0.0305 - val_loss: 0.0014 - val_acc: 0.9121 - val_mean_absolute_error: 0.0262\n",
      "Epoch 2/20\n",
      "794207/794207 [==============================] - 6s 7us/step - loss: 5.1475e-04 - acc: 0.9519 - mean_absolute_error: 0.0154 - val_loss: 4.5955e-04 - val_acc: 0.9560 - val_mean_absolute_error: 0.0149\n",
      "Epoch 3/20\n",
      "794207/794207 [==============================] - 6s 7us/step - loss: 3.5147e-04 - acc: 0.9601 - mean_absolute_error: 0.0129 - val_loss: 4.7685e-04 - val_acc: 0.9523 - val_mean_absolute_error: 0.0146\n",
      "Epoch 4/20\n",
      "794207/794207 [==============================] - 6s 7us/step - loss: 2.7700e-04 - acc: 0.9647 - mean_absolute_error: 0.0114 - val_loss: 4.4162e-04 - val_acc: 0.9538 - val_mean_absolute_error: 0.0143\n",
      "Epoch 5/20\n",
      "794207/794207 [==============================] - 6s 7us/step - loss: 2.3862e-04 - acc: 0.9675 - mean_absolute_error: 0.0106 - val_loss: 2.1876e-04 - val_acc: 0.9717 - val_mean_absolute_error: 0.0095\n",
      "Epoch 6/20\n",
      "794207/794207 [==============================] - 6s 7us/step - loss: 2.0449e-04 - acc: 0.9699 - mean_absolute_error: 0.0098 - val_loss: 1.7552e-04 - val_acc: 0.9761 - val_mean_absolute_error: 0.0083\n",
      "Epoch 7/20\n",
      "794207/794207 [==============================] - 6s 7us/step - loss: 1.8505e-04 - acc: 0.9713 - mean_absolute_error: 0.0093 - val_loss: 2.1142e-04 - val_acc: 0.9743 - val_mean_absolute_error: 0.0094\n",
      "Epoch 8/20\n",
      "794207/794207 [==============================] - 6s 7us/step - loss: 1.6375e-04 - acc: 0.9728 - mean_absolute_error: 0.0088 - val_loss: 2.0153e-04 - val_acc: 0.9690 - val_mean_absolute_error: 0.0095\n",
      "Epoch 9/20\n",
      "794207/794207 [==============================] - 6s 7us/step - loss: 1.4822e-04 - acc: 0.9743 - mean_absolute_error: 0.0084 - val_loss: 2.8715e-04 - val_acc: 0.9680 - val_mean_absolute_error: 0.0110\n",
      "Epoch 10/20\n",
      "794207/794207 [==============================] - 6s 7us/step - loss: 1.3977e-04 - acc: 0.9753 - mean_absolute_error: 0.0081 - val_loss: 1.4868e-04 - val_acc: 0.9803 - val_mean_absolute_error: 0.0076\n",
      "Epoch 11/20\n",
      "794207/794207 [==============================] - 6s 7us/step - loss: 1.3011e-04 - acc: 0.9758 - mean_absolute_error: 0.0079 - val_loss: 1.4584e-04 - val_acc: 0.9768 - val_mean_absolute_error: 0.0077\n",
      "Epoch 12/20\n",
      "794207/794207 [==============================] - 6s 7us/step - loss: 1.2359e-04 - acc: 0.9766 - mean_absolute_error: 0.0076 - val_loss: 1.1891e-04 - val_acc: 0.9800 - val_mean_absolute_error: 0.0068\n",
      "Epoch 13/20\n",
      "794207/794207 [==============================] - 6s 7us/step - loss: 1.1424e-04 - acc: 0.9772 - mean_absolute_error: 0.0074 - val_loss: 1.3249e-04 - val_acc: 0.9794 - val_mean_absolute_error: 0.0074\n",
      "Epoch 14/20\n",
      "794207/794207 [==============================] - 6s 7us/step - loss: 1.0788e-04 - acc: 0.9781 - mean_absolute_error: 0.0072 - val_loss: 1.2670e-04 - val_acc: 0.9798 - val_mean_absolute_error: 0.0072\n",
      "Epoch 15/20\n",
      "794207/794207 [==============================] - 6s 7us/step - loss: 1.0447e-04 - acc: 0.9782 - mean_absolute_error: 0.0071 - val_loss: 1.1856e-04 - val_acc: 0.9814 - val_mean_absolute_error: 0.0070\n",
      "Epoch 16/20\n",
      "794207/794207 [==============================] - 6s 7us/step - loss: 9.8871e-05 - acc: 0.9788 - mean_absolute_error: 0.0069 - val_loss: 2.3410e-04 - val_acc: 0.9690 - val_mean_absolute_error: 0.0105\n",
      "Epoch 17/20\n",
      "794207/794207 [==============================] - 6s 7us/step - loss: 9.3466e-05 - acc: 0.9793 - mean_absolute_error: 0.0067 - val_loss: 1.5436e-04 - val_acc: 0.9746 - val_mean_absolute_error: 0.0083\n",
      "Epoch 18/20\n",
      "794207/794207 [==============================] - 6s 7us/step - loss: 9.0555e-05 - acc: 0.9797 - mean_absolute_error: 0.0066 - val_loss: 1.1852e-04 - val_acc: 0.9805 - val_mean_absolute_error: 0.0070\n",
      "Epoch 19/20\n",
      "794207/794207 [==============================] - 6s 7us/step - loss: 9.0870e-05 - acc: 0.9795 - mean_absolute_error: 0.0066 - val_loss: 1.1630e-04 - val_acc: 0.9805 - val_mean_absolute_error: 0.0071\n",
      "Epoch 20/20\n",
      "794207/794207 [==============================] - 6s 7us/step - loss: 8.6276e-05 - acc: 0.9801 - mean_absolute_error: 0.0065 - val_loss: 1.0437e-04 - val_acc: 0.9814 - val_mean_absolute_error: 0.0065\n"
     ]
    },
    {
     "data": {
      "text/plain": [
       "<keras.callbacks.History at 0x7f023a7eb630>"
      ]
     },
     "execution_count": 17,
     "metadata": {},
     "output_type": "execute_result"
    }
   ],
   "source": [
    "bc.fit(obs_train, act_train, validation_data=[obs_valid, act_valid],  epochs=20, batch_size= 512)"
   ]
  },
  {
   "cell_type": "code",
   "execution_count": 18,
   "metadata": {},
   "outputs": [
    {
     "data": {
      "text/plain": [
       "4774.063403404581"
      ]
     },
     "execution_count": 18,
     "metadata": {},
     "output_type": "execute_result"
    }
   ],
   "source": [
    "rewards.sum()/1000"
   ]
  },
  {
   "cell_type": "code",
   "execution_count": 19,
   "metadata": {},
   "outputs": [
    {
     "data": {
      "text/plain": [
       "array([[ 0.09217432, -0.3808537 ,  0.94491684, -0.20431328, -0.83760446,\n",
       "         0.4058509 , -0.24325673,  0.25300175]], dtype=float32)"
      ]
     },
     "execution_count": 19,
     "metadata": {},
     "output_type": "execute_result"
    }
   ],
   "source": [
    "o = np.random.random(111)[None, :]\n",
    "bc.predict(o)"
   ]
  },
  {
   "cell_type": "code",
   "execution_count": 20,
   "metadata": {},
   "outputs": [
    {
     "name": "stdout",
     "output_type": "stream",
     "text": [
      "[[ 0.05754467 -0.6614223  -0.08244892 -0.2566884   0.15998185 -0.3632475\n",
      "   0.22522736  0.37842995]]\n"
     ]
    }
   ],
   "source": [
    "with tf.Session():\n",
    "    print(policy_fn(o))"
   ]
  },
  {
   "cell_type": "code",
   "execution_count": 21,
   "metadata": {
    "collapsed": true
   },
   "outputs": [],
   "source": [
    "m_rewards = []\n",
    "\n",
    "def run_model(m, m_rounds, max_steps):\n",
    "    env = gym.make(env_name)\n",
    "    for i in range(m_rounds):\n",
    "        obs = env.reset()\n",
    "        r = 0\n",
    "        for s in range(max_steps):\n",
    "            action = m.predict(obs[None,:])\n",
    "#             observations.append(obs)\n",
    "#             actions.append(action)\n",
    "            obs, r_, done, _ = env.step(action)\n",
    "            m_rewards.append(r_)\n",
    "#             r += r_\n",
    "            if done:\n",
    "                break"
   ]
  },
  {
   "cell_type": "code",
   "execution_count": 24,
   "metadata": {},
   "outputs": [
    {
     "name": "stderr",
     "output_type": "stream",
     "text": [
      "[2018-06-06 11:57:11,665] Making new env: Ant-v1\n"
     ]
    }
   ],
   "source": [
    "mr = 1000\n",
    "mstep = 1000\n",
    "run_model(bc, mr, mstep)"
   ]
  },
  {
   "cell_type": "code",
   "execution_count": 25,
   "metadata": {},
   "outputs": [
    {
     "data": {
      "text/plain": [
       "4812.432086982931"
      ]
     },
     "execution_count": 25,
     "metadata": {},
     "output_type": "execute_result"
    }
   ],
   "source": [
    "sum(m_rewards)/mr"
   ]
  },
  {
   "cell_type": "code",
   "execution_count": 28,
   "metadata": {},
   "outputs": [
    {
     "data": {
      "text/plain": [
       "1003534"
      ]
     },
     "execution_count": 28,
     "metadata": {},
     "output_type": "execute_result"
    }
   ],
   "source": [
    "len(m_rewards)"
   ]
  },
  {
   "cell_type": "code",
   "execution_count": null,
   "metadata": {
    "collapsed": true
   },
   "outputs": [],
   "source": []
  }
 ],
 "metadata": {
  "kernelspec": {
   "display_name": "Python 3",
   "language": "python",
   "name": "python3"
  },
  "language_info": {
   "codemirror_mode": {
    "name": "ipython",
    "version": 3
   },
   "file_extension": ".py",
   "mimetype": "text/x-python",
   "name": "python",
   "nbconvert_exporter": "python",
   "pygments_lexer": "ipython3",
   "version": "3.5.3"
  }
 },
 "nbformat": 4,
 "nbformat_minor": 2
}
