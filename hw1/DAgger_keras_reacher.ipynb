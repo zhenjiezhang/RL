{
 "cells": [
  {
   "cell_type": "code",
   "execution_count": 3,
   "metadata": {},
   "outputs": [
    {
     "name": "stderr",
     "output_type": "stream",
     "text": [
      "Using TensorFlow backend.\n"
     ]
    }
   ],
   "source": [
    "import keras\n",
    "from keras.models import Sequential\n",
    "from keras.layers import Dense, Softmax, Input, BatchNormalization, Dropout\n",
    "\n",
    "from sklearn.model_selection import train_test_split\n",
    "\n",
    "import tensorflow as tf\n",
    "from load_policy import load_policy\n",
    "import pickle\n",
    "import numpy as np\n",
    "import gym\n",
    "\n",
    "import tf_util\n"
   ]
  },
  {
   "cell_type": "code",
   "execution_count": 4,
   "metadata": {
    "collapsed": true
   },
   "outputs": [],
   "source": [
    "import tensorflow as tf\n",
    "from keras.backend.tensorflow_backend import set_session\n",
    "config = tf.ConfigProto()\n",
    "config.gpu_options.per_process_gpu_memory_fraction = 0.3\n",
    "set_session(tf.Session(config=config))"
   ]
  },
  {
   "cell_type": "code",
   "execution_count": 5,
   "metadata": {
    "collapsed": true
   },
   "outputs": [],
   "source": [
    "expert_policy_file = \"experts/Reacher-v1.pkl\"\n",
    "env_name = \"Reacher-v1\"\n",
    "rounds = 1000\n",
    "max_steps = 1000"
   ]
  },
  {
   "cell_type": "code",
   "execution_count": 6,
   "metadata": {},
   "outputs": [
    {
     "name": "stdout",
     "output_type": "stream",
     "text": [
      "obs (1, 11) (1, 11)\n"
     ]
    }
   ],
   "source": [
    "data = pickle.load(open(expert_policy_file, \"rb\"))\n",
    "policy_fn = load_policy(expert_policy_file)"
   ]
  },
  {
   "cell_type": "code",
   "execution_count": 7,
   "metadata": {},
   "outputs": [
    {
     "name": "stderr",
     "output_type": "stream",
     "text": [
      "[2018-06-06 18:38:13,879] Making new env: Reacher-v1\n"
     ]
    },
    {
     "name": "stdout",
     "output_type": "stream",
     "text": [
      "100\n",
      "200\n",
      "300\n",
      "400\n",
      "500\n",
      "600\n",
      "700\n",
      "800\n",
      "900\n"
     ]
    }
   ],
   "source": [
    "observations = []\n",
    "actions = []\n",
    "rewards = []\n",
    "\n",
    "with tf.Session() as sess:\n",
    "    tf_util.initialize()\n",
    "    env = gym.make(env_name)\n",
    "    for i in range(rounds):\n",
    "        obs = env.reset()\n",
    "        r = 0\n",
    "        for s in range(max_steps):\n",
    "            action = policy_fn(obs[None,:])\n",
    "            observations.append(obs)\n",
    "            actions.append(action)\n",
    "            obs, r_, done, _ = env.step(action)\n",
    "            rewards.append(r_)\n",
    "            r += r_\n",
    "            if done:\n",
    "                break\n",
    "        if i and i%100 == 0:\n",
    "            print(i)\n",
    "            "
   ]
  },
  {
   "cell_type": "code",
   "execution_count": 8,
   "metadata": {
    "collapsed": true
   },
   "outputs": [],
   "source": [
    "observations = np.array(observations)\n",
    "actions = np.vstack(actions)\n",
    "rewards = np.array(rewards)\n",
    "\n"
   ]
  },
  {
   "cell_type": "code",
   "execution_count": 9,
   "metadata": {},
   "outputs": [
    {
     "data": {
      "text/plain": [
       "(1000000, 2)"
      ]
     },
     "execution_count": 9,
     "metadata": {},
     "output_type": "execute_result"
    }
   ],
   "source": [
    "actions.shape"
   ]
  },
  {
   "cell_type": "code",
   "execution_count": 10,
   "metadata": {
    "collapsed": true
   },
   "outputs": [],
   "source": [
    "def linear_model():\n",
    "    input_dim = observations.shape[-1]\n",
    "    dg = Sequential()\n",
    "    dg.add(Dense(32, input_dim=input_dim, kernel_initializer='normal', activation='relu'))\n",
    "    dg.add(Dense(512, input_dim=input_dim, kernel_initializer='normal', activation='relu'))\n",
    "    dg.add(Dense(32, kernel_initializer='normal', activation='relu'))\n",
    "    dg.add(Dense(2, kernel_initializer='normal'))\n",
    "    dg.compile(optimizer='adam',loss='mse', metrics=['accuracy', 'mae'])\n",
    "    return dg"
   ]
  },
  {
   "cell_type": "code",
   "execution_count": 24,
   "metadata": {
    "collapsed": true
   },
   "outputs": [],
   "source": [
    "def run_model(m, m_rounds, max_steps):\n",
    "    env = gym.make(env_name)\n",
    "    obs_ = []\n",
    "    m_rewards = []\n",
    "    for i in range(m_rounds):\n",
    "        obs = env.reset()\n",
    "        r = 0\n",
    "        for s in range(max_steps):\n",
    "            action = m.predict(obs[None,:])\n",
    "#             observations.append(obs)\n",
    "#             actions.append(action)\n",
    "            obs, r_, done, _ = env.step(action)\n",
    "            obs_.append(obs)\n",
    "            m_rewards.append(r_)\n",
    "#             r += r_\n",
    "            if done:\n",
    "                break\n",
    "    return obs_, m_rewards"
   ]
  },
  {
   "cell_type": "code",
   "execution_count": 37,
   "metadata": {},
   "outputs": [
    {
     "name": "stdout",
     "output_type": "stream",
     "text": [
      "Starting dagger round 0\n",
      "total data: 1000000\n"
     ]
    },
    {
     "name": "stderr",
     "output_type": "stream",
     "text": [
      "[2018-06-07 00:22:44,934] Making new env: Reacher-v1\n"
     ]
    },
    {
     "name": "stdout",
     "output_type": "stream",
     "text": [
      "[0.0009314697754383087, 0.0008881637313775719, 0.0009968089822307228]\n",
      "Dagger round 0 average rewards -30.90386774738525\n",
      "Starting dagger round 1\n",
      "total data: 1020000\n"
     ]
    },
    {
     "name": "stderr",
     "output_type": "stream",
     "text": [
      "[2018-06-07 00:23:33,701] Making new env: Reacher-v1\n"
     ]
    },
    {
     "name": "stdout",
     "output_type": "stream",
     "text": [
      "[0.0010214183843128529, 0.0008538694817335436, 0.0009724201460588066]\n",
      "Dagger round 1 average rewards -30.080359987450844\n",
      "Starting dagger round 2\n",
      "total data: 1040000\n"
     ]
    },
    {
     "name": "stderr",
     "output_type": "stream",
     "text": [
      "[2018-06-07 00:24:23,451] Making new env: Reacher-v1\n"
     ]
    },
    {
     "name": "stdout",
     "output_type": "stream",
     "text": [
      "[0.0011672708051135906, 0.000922916311913958, 0.0009913429842115596]\n",
      "Dagger round 2 average rewards -24.942037867612235\n",
      "Starting dagger round 3\n",
      "total data: 1060000\n"
     ]
    },
    {
     "name": "stderr",
     "output_type": "stream",
     "text": [
      "[2018-06-07 00:25:14,121] Making new env: Reacher-v1\n"
     ]
    },
    {
     "name": "stdout",
     "output_type": "stream",
     "text": [
      "[0.0014171209406494251, 0.0012305618628754087, 0.0010067926708187136]\n",
      "Dagger round 3 average rewards -30.307623734609752\n",
      "Starting dagger round 4\n",
      "total data: 1080000\n"
     ]
    },
    {
     "name": "stderr",
     "output_type": "stream",
     "text": [
      "[2018-06-07 00:26:05,662] Making new env: Reacher-v1\n"
     ]
    },
    {
     "name": "stdout",
     "output_type": "stream",
     "text": [
      "[0.0014900445213058481, 0.0009119868006350265, 0.0011463030982003719]\n",
      "Dagger round 4 average rewards -25.0500981223255\n"
     ]
    }
   ],
   "source": [
    "dagger_rounds = 10\n",
    "m_rounds = 20\n",
    "m_steps = 1000\n",
    "\n",
    "obs_bag = [o for o in observations]\n",
    "act_bag = [a for a in actions]\n",
    "rew = []\n",
    "for i in range(dagger_rounds):\n",
    "    print(\"Starting dagger round {}\".format(i))\n",
    "    print(\"total data: {}\".format(len(obs_bag)))\n",
    "    obs_train, obs_valid, act_train, act_valid = \\\n",
    "        train_test_split(obs_bag, act_bag, test_size = 0.2, random_state = 1998)\n",
    "\n",
    "    m = linear_model()    \n",
    "    hist = m.fit(np.array(obs_train), np.array(act_train), \\\n",
    "          validation_data=[np.array(obs_valid), np.array(act_valid)],  epochs=10, batch_size= 512, verbose = 0)\n",
    "    print (hist.history['val_mean_absolute_error'][-3:])\n",
    "    new_obs, new_rewards = run_model(m, m_rounds, m_steps)\n",
    "    \n",
    "    with tf.Session(): \n",
    "        new_actions = policy_fn(np.array(new_obs))\n",
    "    obs_bag.extend(new_obs)\n",
    "    act_bag.extend([a for a in new_actions])\n",
    "    rew.append(new_rewards)\n",
    "\n",
    "    print(\"Dagger round {} average rewards {}\". format(i, sum(new_rewards)/m_rounds))\n",
    "    \n",
    "\n"
   ]
  },
  {
   "cell_type": "code",
   "execution_count": 38,
   "metadata": {},
   "outputs": [
    {
     "name": "stderr",
     "output_type": "stream",
     "text": [
      "[2018-06-07 00:28:02,186] Making new env: Reacher-v1\n"
     ]
    }
   ],
   "source": [
    "o, r = run_model(m, 1000, 1000)"
   ]
  },
  {
   "cell_type": "code",
   "execution_count": 40,
   "metadata": {},
   "outputs": [
    {
     "data": {
      "text/plain": [
       "-22.506101679346383"
      ]
     },
     "execution_count": 40,
     "metadata": {},
     "output_type": "execute_result"
    }
   ],
   "source": [
    "sum(r)/1000"
   ]
  },
  {
   "cell_type": "code",
   "execution_count": null,
   "metadata": {
    "collapsed": true
   },
   "outputs": [],
   "source": []
  },
  {
   "cell_type": "code",
   "execution_count": 34,
   "metadata": {
    "collapsed": true
   },
   "outputs": [],
   "source": [
    "bc = linear_model()"
   ]
  },
  {
   "cell_type": "code",
   "execution_count": 35,
   "metadata": {},
   "outputs": [
    {
     "name": "stdout",
     "output_type": "stream",
     "text": [
      "Train on 800000 samples, validate on 200000 samples\n",
      "Epoch 1/10\n",
      "800000/800000 [==============================] - 3s 4us/step - loss: 1.0037e-04 - acc: 0.5459 - mean_absolute_error: 0.0030 - val_loss: 2.5185e-05 - val_acc: 0.5542 - val_mean_absolute_error: 0.0018\n",
      "Epoch 2/10\n",
      "800000/800000 [==============================] - 3s 4us/step - loss: 1.9726e-05 - acc: 0.5557 - mean_absolute_error: 0.0016 - val_loss: 1.6545e-05 - val_acc: 0.5392 - val_mean_absolute_error: 0.0023\n",
      "Epoch 3/10\n",
      "800000/800000 [==============================] - 3s 4us/step - loss: 1.0994e-05 - acc: 0.5584 - mean_absolute_error: 0.0013 - val_loss: 1.2519e-05 - val_acc: 0.5381 - val_mean_absolute_error: 0.0018\n",
      "Epoch 4/10\n",
      "800000/800000 [==============================] - 3s 4us/step - loss: 8.3437e-06 - acc: 0.5591 - mean_absolute_error: 0.0012 - val_loss: 6.8048e-06 - val_acc: 0.5438 - val_mean_absolute_error: 0.0010\n",
      "Epoch 5/10\n",
      "800000/800000 [==============================] - 3s 4us/step - loss: 6.2090e-06 - acc: 0.5602 - mean_absolute_error: 0.0010 - val_loss: 4.7484e-06 - val_acc: 0.5609 - val_mean_absolute_error: 9.3317e-04\n",
      "Epoch 6/10\n",
      "800000/800000 [==============================] - 3s 4us/step - loss: 5.4936e-06 - acc: 0.5601 - mean_absolute_error: 9.8121e-04 - val_loss: 4.4586e-06 - val_acc: 0.5757 - val_mean_absolute_error: 8.4320e-04\n",
      "Epoch 7/10\n",
      "800000/800000 [==============================] - 3s 4us/step - loss: 4.8594e-06 - acc: 0.5602 - mean_absolute_error: 9.1117e-04 - val_loss: 4.4758e-06 - val_acc: 0.5459 - val_mean_absolute_error: 7.8812e-04\n",
      "Epoch 8/10\n",
      "800000/800000 [==============================] - 3s 4us/step - loss: 4.4354e-06 - acc: 0.5609 - mean_absolute_error: 8.6683e-04 - val_loss: 4.0718e-06 - val_acc: 0.5641 - val_mean_absolute_error: 8.6067e-04\n",
      "Epoch 9/10\n",
      "800000/800000 [==============================] - 3s 4us/step - loss: 3.7473e-06 - acc: 0.5625 - mean_absolute_error: 7.9402e-04 - val_loss: 2.6198e-06 - val_acc: 0.5488 - val_mean_absolute_error: 5.5732e-04\n",
      "Epoch 10/10\n",
      "800000/800000 [==============================] - 3s 4us/step - loss: 3.7649e-06 - acc: 0.5623 - mean_absolute_error: 7.8923e-04 - val_loss: 4.8691e-06 - val_acc: 0.5791 - val_mean_absolute_error: 9.2732e-04\n"
     ]
    },
    {
     "data": {
      "text/plain": [
       "<keras.callbacks.History at 0x7f656c1b3da0>"
      ]
     },
     "execution_count": 35,
     "metadata": {},
     "output_type": "execute_result"
    }
   ],
   "source": [
    "bc.fit(obs_train, act_train, validation_data=[obs_valid, act_valid],  epochs=10, batch_size= 512)"
   ]
  },
  {
   "cell_type": "code",
   "execution_count": 11,
   "metadata": {},
   "outputs": [
    {
     "data": {
      "text/plain": [
       "-22.77505284176671"
      ]
     },
     "execution_count": 11,
     "metadata": {},
     "output_type": "execute_result"
    }
   ],
   "source": [
    "rewards.sum()/1000"
   ]
  },
  {
   "cell_type": "code",
   "execution_count": 20,
   "metadata": {},
   "outputs": [
    {
     "data": {
      "text/plain": [
       "array([[-0.30525178, -0.2506469 ]], dtype=float32)"
      ]
     },
     "execution_count": 20,
     "metadata": {},
     "output_type": "execute_result"
    }
   ],
   "source": [
    "o = np.random.random(11)[None, :]\n",
    "bc.predict(o)"
   ]
  },
  {
   "cell_type": "code",
   "execution_count": 21,
   "metadata": {},
   "outputs": [
    {
     "name": "stdout",
     "output_type": "stream",
     "text": [
      "[[0.8586951 1.2538567]]\n"
     ]
    }
   ],
   "source": [
    "with tf.Session():\n",
    "    print(policy_fn(o))"
   ]
  },
  {
   "cell_type": "code",
   "execution_count": 22,
   "metadata": {
    "collapsed": true
   },
   "outputs": [],
   "source": [
    "m_rewards = []\n",
    "\n"
   ]
  },
  {
   "cell_type": "code",
   "execution_count": 28,
   "metadata": {},
   "outputs": [
    {
     "name": "stderr",
     "output_type": "stream",
     "text": [
      "[2018-06-06 14:28:00,214] Making new env: Reacher-v1\n"
     ]
    }
   ],
   "source": [
    "mr = 1000\n",
    "mstep = 1000\n",
    "run_model(bc, mr, mstep)"
   ]
  },
  {
   "cell_type": "code",
   "execution_count": 29,
   "metadata": {},
   "outputs": [
    {
     "data": {
      "text/plain": [
       "-124.8846213507004"
      ]
     },
     "execution_count": 29,
     "metadata": {},
     "output_type": "execute_result"
    }
   ],
   "source": [
    "sum(m_rewards)/mr"
   ]
  },
  {
   "cell_type": "code",
   "execution_count": 27,
   "metadata": {},
   "outputs": [
    {
     "data": {
      "text/plain": [
       "20000"
      ]
     },
     "execution_count": 27,
     "metadata": {},
     "output_type": "execute_result"
    }
   ],
   "source": [
    "len(m_rewards)"
   ]
  },
  {
   "cell_type": "code",
   "execution_count": 30,
   "metadata": {},
   "outputs": [
    {
     "data": {
      "text/plain": [
       "2"
      ]
     },
     "execution_count": 30,
     "metadata": {},
     "output_type": "execute_result"
    }
   ],
   "source": [
    "2"
   ]
  },
  {
   "cell_type": "code",
   "execution_count": null,
   "metadata": {
    "collapsed": true
   },
   "outputs": [],
   "source": []
  }
 ],
 "metadata": {
  "kernelspec": {
   "display_name": "Python 3",
   "language": "python",
   "name": "python3"
  },
  "language_info": {
   "codemirror_mode": {
    "name": "ipython",
    "version": 3
   },
   "file_extension": ".py",
   "mimetype": "text/x-python",
   "name": "python",
   "nbconvert_exporter": "python",
   "pygments_lexer": "ipython3",
   "version": "3.5.3"
  }
 },
 "nbformat": 4,
 "nbformat_minor": 2
}
